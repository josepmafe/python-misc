{
 "cells": [
  {
   "cell_type": "code",
   "execution_count": 1,
   "metadata": {
    "ExecuteTime": {
     "end_time": "2021-01-30T17:24:41.146769Z",
     "start_time": "2021-01-30T17:24:41.132779Z"
    }
   },
   "outputs": [],
   "source": [
    "import numpy as np"
   ]
  },
  {
   "cell_type": "markdown",
   "metadata": {},
   "source": [
    "In this (short) notebook I explore lists mutability (its ability to change), and how the fact that Python names are references affects the potential changes on these lists."
   ]
  },
  {
   "cell_type": "code",
   "execution_count": 10,
   "metadata": {
    "ExecuteTime": {
     "end_time": "2021-01-30T17:36:11.494401Z",
     "start_time": "2021-01-30T17:36:11.485652Z"
    }
   },
   "outputs": [
    {
     "name": "stdout",
     "output_type": "stream",
     "text": [
      "second list after first change: `[2, 2]`, with memory address `1728610078592`\n",
      "first list after first change: `[2, 2]`, with memory address `1728610078592`\n",
      "first list after second change: `[2, 3]`, with memory address `1728610078592`\n",
      "second list after second change: `[2, 3]`, with memory address `1728610078592`\n"
     ]
    }
   ],
   "source": [
    "# instantiate a simple list\n",
    "a = [1, 2]\n",
    "\n",
    "# copy it to another variable\n",
    "b = a\n",
    "\n",
    "# change the new variable (mutability) and check it\n",
    "b[0] = 2\n",
    "print(f\"second list after first change: `{b}`, with memory address `{id(b)}`\")\n",
    "\n",
    "# however, is `a` affected? the answer is YES, as Python names are references pointing to the same memory address\n",
    "print(f\"first list after first change: `{a}`, with memory address `{id(a)}`\")\n",
    "\n",
    "# let's now change a\n",
    "a[1] = 3\n",
    "print(f\"first list after second change: `{a}`, with memory address `{id(a)}`\")\n",
    "\n",
    "# is `b` affected? again, the answer is YES\n",
    "print(f\"second list after second change: `{b}`, with memory address `{id(b)}`\")"
   ]
  },
  {
   "cell_type": "markdown",
   "metadata": {
    "ExecuteTime": {
     "end_time": "2021-01-30T17:25:02.424022Z",
     "start_time": "2021-01-30T17:25:02.396139Z"
    }
   },
   "source": [
    "Moreover, numpy arrays act the same way"
   ]
  },
  {
   "cell_type": "code",
   "execution_count": 11,
   "metadata": {
    "ExecuteTime": {
     "end_time": "2021-01-30T17:37:02.913155Z",
     "start_time": "2021-01-30T17:37:02.892034Z"
    }
   },
   "outputs": [
    {
     "name": "stdout",
     "output_type": "stream",
     "text": [
      "[1 4] [1 4]\n"
     ]
    }
   ],
   "source": [
    "a = np.array([1, 2])\n",
    "b = a\n",
    "b[-1] = 4\n",
    "print(a, b)"
   ]
  }
 ],
 "metadata": {
  "kernelspec": {
   "display_name": "Python 3",
   "language": "python",
   "name": "python3"
  },
  "language_info": {
   "codemirror_mode": {
    "name": "ipython",
    "version": 3
   },
   "file_extension": ".py",
   "mimetype": "text/x-python",
   "name": "python",
   "nbconvert_exporter": "python",
   "pygments_lexer": "ipython3",
   "version": "3.8.3"
  },
  "toc": {
   "base_numbering": 1,
   "nav_menu": {},
   "number_sections": true,
   "sideBar": true,
   "skip_h1_title": false,
   "title_cell": "Table of Contents",
   "title_sidebar": "Contents",
   "toc_cell": false,
   "toc_position": {},
   "toc_section_display": true,
   "toc_window_display": false
  },
  "varInspector": {
   "cols": {
    "lenName": 16,
    "lenType": 16,
    "lenVar": 40
   },
   "kernels_config": {
    "python": {
     "delete_cmd_postfix": "",
     "delete_cmd_prefix": "del ",
     "library": "var_list.py",
     "varRefreshCmd": "print(var_dic_list())"
    },
    "r": {
     "delete_cmd_postfix": ") ",
     "delete_cmd_prefix": "rm(",
     "library": "var_list.r",
     "varRefreshCmd": "cat(var_dic_list()) "
    }
   },
   "types_to_exclude": [
    "module",
    "function",
    "builtin_function_or_method",
    "instance",
    "_Feature"
   ],
   "window_display": false
  }
 },
 "nbformat": 4,
 "nbformat_minor": 4
}
